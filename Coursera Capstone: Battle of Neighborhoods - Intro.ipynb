{
    "nbformat_minor": 1, 
    "cells": [
        {
            "source": "# Find Location to Build New Movie Theater in Chennai, India", 
            "cell_type": "markdown", 
            "metadata": {
                "collapsed": true
            }
        }, 
        {
            "source": "Capstone Project - The Battle of Neighbourhoods", 
            "cell_type": "markdown", 
            "metadata": {}
        }, 
        {
            "source": "\n### Introduction\n\n#### Recommend a location in Chennai to open a new movie theatre.\n\nMy friend, the stakeholder wants to open a new cinema as company's new business.\n\nHe explains that watching movie is a part of whole afternoon or night activities. Cinema should have many restaurants and shopping places nearby. Transportation is also an important factor. Customer can walk to cinema within 5 minutes from public transport facilities is perfect.\n\nHe wants me concentrated on selection of cinema location according to its nearby environment. Cinema facility and rental price is not my concern. He requested to compare agaisnt top favourite movie theatres with foursquesre tips & rating.\n\nHe selected 5 possible locations to build the cinema. Which location should be suggested to the stakeholder?\n\n", 
            "cell_type": "markdown", 
            "metadata": {}
        }, 
        {
            "source": "![image.png](attachment:image.png)", 
            "cell_type": "markdown", 
            "attachments": {
                "image.png": {
                    "image/png": "[encoded data removed]"
                }
            }, 
            "metadata": {}
        }, 
        {
            "source": "", 
            "cell_type": "markdown", 
            "attachments": {}, 
            "metadata": {}
        }
    ], 
    "metadata": {
        "kernelspec": {
            "display_name": "Python 3.5", 
            "name": "python3", 
            "language": "python"
        }, 
        "language_info": {
            "mimetype": "text/x-python", 
            "nbconvert_exporter": "python", 
            "version": "3.5.5", 
            "name": "python", 
            "file_extension": ".py", 
            "pygments_lexer": "ipython3", 
            "codemirror_mode": {
                "version": 3, 
                "name": "ipython"
            }
        }
    }, 
    "nbformat": 4
}