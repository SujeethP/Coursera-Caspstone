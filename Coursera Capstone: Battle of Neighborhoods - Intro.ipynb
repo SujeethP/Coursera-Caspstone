{
    "nbformat_minor": 1, 
    "cells": [
        {
            "source": "# Find Location to Build New Movie Theater in Chennai, India", 
            "cell_type": "markdown", 
            "metadata": {
                "collapsed": true
            }
        }, 
        {
            "source": "Capstone Project - The Battle of Neighbourhoods", 
            "cell_type": "markdown", 
            "metadata": {}
        }, 
        {
            "source": "\n### Introduction\n\n#### Recommend a location in Chennai to open a new movie theatre.\n\nMy friend, the stakeholder wants to open a new cinema as company's new business.\n\nHe explains that watching movie is a part of whole afternoon or night activities. Cinema should have many restaurants and shopping places nearby. Transportation is also an important factor. Customer can walk to cinema within 5 minutes from public transport facilities is perfect.\n\nHe wants me concentrated on selection of cinema location according to its nearby environment. Cinema facility and rental price is not my concern. He requested to compare agaisnt top favourite movie theatres with foursquesre tips & rating.\n\nHe selected 5 possible locations to build the cinema. Which location should be suggested to the stakeholder?\n\n", 
            "cell_type": "markdown", 
            "metadata": {}
        }, 
        {
            "execution_count": 6, 
            "cell_type": "code", 
            "metadata": {}, 
            "outputs": [
                {
                    "execution_count": 6, 
                    "metadata": {}, 
                    "data": {
                        "text/html": "<div>\n<style scoped>\n    .dataframe tbody tr th:only-of-type {\n        vertical-align: middle;\n    }\n\n    .dataframe tbody tr th {\n        vertical-align: top;\n    }\n\n    .dataframe thead th {\n        text-align: right;\n    }\n</style>\n<table border=\"1\" class=\"dataframe\">\n  <thead>\n    <tr style=\"text-align: right;\">\n      <th></th>\n      <th>Location</th>\n      <th>Area</th>\n    </tr>\n  </thead>\n  <tbody>\n    <tr>\n      <th>0</th>\n      <td>Option1</td>\n      <td>George Town, Chennai</td>\n    </tr>\n    <tr>\n      <th>1</th>\n      <td>Option2</td>\n      <td>Anna Nagar, Chennai</td>\n    </tr>\n    <tr>\n      <th>2</th>\n      <td>Option3</td>\n      <td>Nandanam, Chennai</td>\n    </tr>\n    <tr>\n      <th>3</th>\n      <td>Option4</td>\n      <td>Nungambakkam, Chennai</td>\n    </tr>\n    <tr>\n      <th>4</th>\n      <td>Option5</td>\n      <td>Saligramam, Chennai</td>\n    </tr>\n  </tbody>\n</table>\n</div>", 
                        "text/plain": "  Location                   Area\n0  Option1   George Town, Chennai\n1  Option2    Anna Nagar, Chennai\n2  Option3      Nandanam, Chennai\n3  Option4  Nungambakkam, Chennai\n4  Option5    Saligramam, Chennai"
                    }, 
                    "output_type": "execute_result"
                }
            ], 
            "source": ""
        }, 
        {
            "execution_count": null, 
            "cell_type": "code", 
            "metadata": {}, 
            "outputs": [], 
            "source": ""
        }, 
        {
            "execution_count": null, 
            "cell_type": "code", 
            "metadata": {}, 
            "outputs": [], 
            "source": ""
        }
    ], 
    "metadata": {
        "kernelspec": {
            "display_name": "Python 3.5", 
            "name": "python3", 
            "language": "python"
        }, 
        "language_info": {
            "mimetype": "text/x-python", 
            "nbconvert_exporter": "python", 
            "version": "3.5.5", 
            "name": "python", 
            "file_extension": ".py", 
            "pygments_lexer": "ipython3", 
            "codemirror_mode": {
                "version": 3, 
                "name": "ipython"
            }
        }
    }, 
    "nbformat": 4
}